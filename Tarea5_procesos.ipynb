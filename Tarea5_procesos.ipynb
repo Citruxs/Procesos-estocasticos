{
 "cells": [
  {
   "cell_type": "code",
   "execution_count": 1,
   "metadata": {},
   "outputs": [],
   "source": [
    "import matplotlib.pyplot as plt\n",
    "import numpy as np\n",
    "import random"
   ]
  },
  {
   "cell_type": "code",
   "execution_count": 4,
   "metadata": {},
   "outputs": [],
   "source": [
    "def ruina_del_jugador1(x,c,p=0.4,pl = True):\n",
    "    vd = []    \n",
    "    vi = x\n",
    "    r = []\n",
    "    for i in range(100000):\n",
    "        x = vi \n",
    "        ruta = [x]\n",
    "        while x>0 and x<8:\n",
    "            \n",
    "            if p >= random.uniform(0,1):\n",
    "                x += c\n",
    "                ruta.append(x)\n",
    "            else:\n",
    "                x -= c\n",
    "                ruta.append(x)\n",
    "            \n",
    "            if x == 0:\n",
    "                vd.append(0)\n",
    "            elif x==8:\n",
    "                vd.append(1)\n",
    "            \n",
    "        r.append(len(ruta)-1)\n",
    "                \n",
    "            \n",
    "    if pl:\n",
    "        plt.plot(ruta)\n",
    "    return np.mean(r)"
   ]
  },
  {
   "cell_type": "code",
   "execution_count": 11,
   "metadata": {},
   "outputs": [
    {
     "data": {
      "text/plain": [
       "11.11256"
      ]
     },
     "execution_count": 11,
     "metadata": {},
     "output_type": "execute_result"
    }
   ],
   "source": [
    "ruina_del_jugador1(3,1,0.4,False)"
   ]
  },
  {
   "cell_type": "code",
   "execution_count": 12,
   "metadata": {},
   "outputs": [],
   "source": [
    "def ruina_del_jugador2(x,p=0.4,pl = True):\n",
    "    vd = []\n",
    "    r = []\n",
    "    vi = x\n",
    "    for i in range(10000000):\n",
    "        ruta = [x]\n",
    "        x = vi\n",
    "        while x>0 and x<8:\n",
    "            win = 8 - x\n",
    "            \n",
    "            if win <= x:\n",
    "                win = win\n",
    "            else:\n",
    "                win = x\n",
    "                    \n",
    "            if p >= random.uniform(0,1):\n",
    "                x += win\n",
    "                ruta.append(x)\n",
    "            else:\n",
    "                x -= win\n",
    "                ruta.append(x)\n",
    "                \n",
    "            if x == 0:\n",
    "                vd.append(0)\n",
    "            elif x==8:\n",
    "                vd.append(1)\n",
    "                \n",
    "        r.append(len(ruta)-1)\n",
    "\n",
    "    if pl:\n",
    "        plt.plot(ruta)\n",
    "        \n",
    "    return np.mean(r)"
   ]
  },
  {
   "cell_type": "code",
   "execution_count": 13,
   "metadata": {},
   "outputs": [
    {
     "data": {
      "text/plain": [
       "1.6398081"
      ]
     },
     "execution_count": 13,
     "metadata": {},
     "output_type": "execute_result"
    }
   ],
   "source": [
    "ruina_del_jugador2(3,0.4,False)"
   ]
  }
 ],
 "metadata": {
  "kernelspec": {
   "display_name": "base",
   "language": "python",
   "name": "python3"
  },
  "language_info": {
   "codemirror_mode": {
    "name": "ipython",
    "version": 3
   },
   "file_extension": ".py",
   "mimetype": "text/x-python",
   "name": "python",
   "nbconvert_exporter": "python",
   "pygments_lexer": "ipython3",
   "version": "3.9.17"
  },
  "orig_nbformat": 4
 },
 "nbformat": 4,
 "nbformat_minor": 2
}
